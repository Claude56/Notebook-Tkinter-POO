{
 "cells": [
  {
   "cell_type": "markdown",
   "metadata": {},
   "source": [
    "<h1 style=\"color: navy\"> Le module Tkinter et la POO :</h1>"
   ]
  },
  {
   "cell_type": "markdown",
   "metadata": {},
   "source": [
    "Le module *Tkinter* permet de piloter la bibliothèque graphique Tk (Tool Kit), Tkinter signifiant tk interface. Ce module permet de développer un *graphical user interface* ou encore **GUI**.<br/>\n",
    "L'utilisation d'une GUI amene une nouvelle manière d'aborder le déroulement d'un programme, il s'agit de la programmation dite « événementielle ». Avec une GUI, l'exécution est décidée par l'utilisateur en fonction de ses interactions avec les différents widgets (window gadget). Comme c'est l'utilisateur qui décide quand et où il clique dans l'interface, il faut mettre en place un « gestionnaire d'événements »."
   ]
  },
  {
   "cell_type": "code",
   "execution_count": null,
   "metadata": {},
   "outputs": [],
   "source": [
    "''' Exemple simple d'utilisation du module Tkinter:\n",
    "A tester dans une console Python pour un meilleur fonctionnement, éventuellement ligne par ligne''' \n",
    "import tkinter as tk\n",
    "\n",
    "racine = tk.Tk()  # Instanciation d'un objet \"racine\" à partir de la classe Tk: Création d'une fenêtre\n",
    "# Instanciations des widgets: \"label\" et \"bouton\" à partir des classes Label et Button:\n",
    "label = tk.Label(racine, text=\"Exemple simple !\") \n",
    "bouton = tk.Button(racine, text=\"Quitter\", command=racine.destroy) \n",
    "bouton[\"fg\"] = \"red\"\n",
    "# Mise en place des widgets:\n",
    "label.pack()\n",
    "bouton.pack() # Démarrage du gestionnaire d'événnements\n",
    "racine.mainloop()\n",
    "print(\"Bye bye !\")"
   ]
  },
  {
   "cell_type": "markdown",
   "metadata": {},
   "source": [
    "- Ligne 5: *racine* est une instance de la classe Tk: à voir: *dir (racine)* ou *help (racine)* <br/>\n",
    "- Lignes 7 et 8: *racine* est un argument positionnel, désignant la fenêtre cible des widgets <br/>\n",
    "- Ligne 8: **command=racine.quit** constitue un appel de fonction *Callback* => Voir notebook spécifique."
   ]
  },
  {
   "cell_type": "code",
   "execution_count": 1,
   "metadata": {},
   "outputs": [],
   "source": [
    "# Le même exemple, en version POO cette fois:\n",
    "import tkinter as tk\n",
    "\n",
    "class Application(tk.Tk): # Création de la classe Application (tk.Tk), qui hérite de tk.Tk\n",
    "    def __init__(self): # Démarrage du constructeur de la classe Application, et qui appelle\n",
    "        tk.Tk.__init__(self) # le constructeur de la classe parente, avec le paramètre  self.\n",
    "        self.creerWidgets() # Appel de la méthode creer_widgets().\n",
    "\n",
    "    def creerWidgets(self):\n",
    "        self.label = tk.Label(self, text=\"Salut !\")\n",
    "        self.bouton = tk.Button(self, text=\"Quitter\", command=self.destroy)\n",
    "        self.label.pack()\n",
    "        self.bouton.pack()\n",
    "\n",
    "app = Application() #Création d'une instance 'app' de la classe Application\n",
    "app.title(\"FenêtreGraphique\")\n",
    "app.mainloop()"
   ]
  },
  {
   "cell_type": "markdown",
   "metadata": {},
   "source": [
    "=> Tester le script ci-dessus et comparer son écriture avec celle du script précédent. <br/>\n",
    "Remarque: L'appel du constructeur de la classe parente, avec le paramètre  self, à la ligne 6, permet d'instancier directement la classe tk.Tk avec le paramètre self."
   ]
  },
  {
   "cell_type": "code",
   "execution_count": null,
   "metadata": {},
   "outputs": [],
   "source": [
    "# Un autre exemple avec un canvas cette fois:\n",
    "import tkinter as tk\n",
    "import random as rd\n",
    "\n",
    "class AppliCanevas(tk.Tk): # Création de la classe AppliCanevas à partir de la classe tk.Tk\n",
    "    def __init__(self):\n",
    "        tk.Tk.__init__(self)\n",
    "        self.size = 500\n",
    "        self.creerWidgets()\n",
    "\n",
    "    def creerWidgets(self):\n",
    "        # Création d'un canevas:\n",
    "        self.canv = tk.Canvas(self, bg=\"light gray\", height=self.size, width=self.size)\n",
    "        self.canv.pack(side=tk.LEFT)\n",
    "        # Création des boutons:\n",
    "        self.boutonCercles = tk.Button(self, text=\"Cercle !\", command=self.dessineCercles)\n",
    "        self.boutonCercles.pack(side=tk.TOP)\n",
    "        self.boutonLignes = tk.Button(self, text=\"Lignes !\", command=self.dessineLignes)\n",
    "        self.boutonLignes.pack()\n",
    "        self.boutonQuitter = tk.Button(self, text=\"Quitter\", command=self.destroy)\n",
    "        self.boutonQuitter.pack(side=tk.BOTTOM)\n",
    "\n",
    "    def tirageColor(self):\n",
    "        return rd.choice((\"black\", \"red\", \"green\", \"blue\", \"yellow\", \"magenta\", \"cyan\", \"white\", \"purple\"))\n",
    "\n",
    "    def dessineCercles(self):\n",
    "        '''Tracés des cercles'''\n",
    "        for i in range(20):\n",
    "            x, y = [rd.randint(1, self.size) for j in range(2)] # tirage origine x,y des cercles\n",
    "            diametre = rd.randint(1, 50) # tirage du diamètre des cercles\n",
    "            self.canv.create_oval(x, y, x+diametre, y+diametre, fill=self.tirageColor())\n",
    "\n",
    "    def dessineLignes(self):\n",
    "        '''Tracés des lignes'''\n",
    "        for i in range(20):\n",
    "            x, y, x2, y2 = [rd.randint(1, self.size) for j in range(4)] # Tirage extrémités des lignes\n",
    "            self.canv.create_line(x, y, x2, y2, fill=self.tirageColor())\n",
    "            \n",
    "            \n",
    "app = AppliCanevas()\n",
    "app.title(\"Canevas Psychédélique !\")\n",
    "app.mainloop()"
   ]
  },
  {
   "cell_type": "code",
   "execution_count": 1,
   "metadata": {},
   "outputs": [],
   "source": [
    "\"\"\"    Appli balle  => Les méthodes: incr et decr sont à compléter !\n",
    "Usage avec la souris:\n",
    "- clic gauche: pour faire grossir la balle (fonction à compléter)\n",
    "- clic droit: pour faire rétrécir la balle (fonction à compléter)\n",
    "- clic central: relance la balle (depuis le  point du clic) dans une direction aléatoire\n",
    "- touche Esc: quitte l'application.\n",
    "\"\"\"\n",
    "\n",
    "import tkinter as tk\n",
    "import random as rd\n",
    "\n",
    "class AppliBalle(tk.Tk):\n",
    "    def __init__(self):\n",
    "        \"\"\"Constructeur de l'application.\"\"\"\n",
    "        tk.Tk.__init__(self)\n",
    "        # Coord balle.\n",
    "        self.x, self.y = 200, 200\n",
    "        # Rayon balle.\n",
    "        self.size = 50\n",
    "        # Pas de deplacement.\n",
    "        self.dx, self.dy = 20, 20\n",
    "        # Création et packing du canvas.\n",
    "        self.canv = tk.Canvas(self, bg='light gray', height=400, width=400)\n",
    "        self.canv.pack()\n",
    "        # Création de la balle.\n",
    "        self.balle = self.canv.create_oval(self.x, self.y, self.x+self.size, self.y+self.size, width=2, fill=\"blue\")\n",
    "        # Binding des actions.\n",
    "        self.canv.bind(\"<Button-1>\", self.incr)\n",
    "        self.canv.bind(\"<Button-2>\", self.boom)\n",
    "        self.canv.bind(\"<Button-3>\", self.decr)\n",
    "        self.bind(\"<Escape>\", self.stop)\n",
    "        # Lancer la balle.\n",
    "        self.move()\n",
    "\n",
    "    def move(self):\n",
    "        \"\"\"Déplace la balle (appelée itérativement avec la méthode after).\"\"\"\n",
    "        # Incrémente coord balle.\n",
    "        self.x += self.dx\n",
    "        self.y += self.dy\n",
    "        # Vérifier que la balle ne sort pas du canvas (choc élastique).\n",
    "        if self.x < 10:\n",
    "            self.dx = abs(self.dx)\n",
    "        if self.x > 400-self.size-10:\n",
    "            self.dx = -abs(self.dx)\n",
    "        if self.y < 10:\n",
    "            self.dy = abs(self.dy)\n",
    "        if self.y > 400-self.size-10:\n",
    "            self.dy = -abs(self.dy)\n",
    "        # Mise à jour des coord.\n",
    "        self.canv.coords(self.balle, self.x, self.y, self.x+self.size, self.y+self.size)\n",
    "        # Rappel de move toutes les 50ms.\n",
    "        self.after(50, self.move)\n",
    "\n",
    "    def boom(self, mclick):\n",
    "        \"\"\"Relance la baballe dans une direction aléatoire au point du clic.\"\"\"\n",
    "        self.x = mclick.x\n",
    "        self.y = mclick.y\n",
    "        self.canv.create_text(self.x, self.y, text=\"Boom !\", fill=\"red\")\n",
    "        self.dx = rd.choice([-30, -20, -10, 10, 20, 30])\n",
    "        self.dy = rd.choice([-30, -20, -10, 10, 20, 30])\n",
    "\n",
    "    def incr(self, lclick):\n",
    "        \"\"\"Augmente la taille de la balle: +10 et jusqu'à la limite de 200\n",
    "                    A compléter!\n",
    "        \"\"\"\n",
    "        \n",
    "    def decr(self, rclick):\n",
    "        \"\"\"Diminue la taille de la balle: -10 et jusqu'à 10 minimun\n",
    "                    A compléter!\n",
    "        \"\"\"\n",
    "       \n",
    "\n",
    "    def stop(self, esc):\n",
    "        \"\"\"Quitte l'application.\"\"\"\n",
    "        self.quit()\n",
    "        \n",
    "        \n",
    "app = AppliBalle()\n",
    "app.title(\"Balle !\")\n",
    "app.mainloop()"
   ]
  },
  {
   "cell_type": "markdown",
   "metadata": {},
   "source": [
    "La méthode *.pack()* est utilsée pour placer les widgets. Cette méthode « empaquette » les widgets les uns contre les autres et redimensionne la fenêtre automatiquement. <br/>\n",
    "Avec l'option *side=* et les variables *tk.BOTTOM, tk.LEFT, tk.TOP et tk.RIGHT* on place facilement les widgets les uns par rapport aux autres. Toutefois, la méthode *.pack()* peut parfois présenter des limites, il existe alors deux autres alternatives:\n",
    "=> La méthode *.grid()* qui permet, grâce à l'utilisation d'une grille, un placement mieux contrôlé des différents widgets. <br/>\n",
    "=> La méthode *.place()* qui positionne les widgets en utilisant les coordonnées de la fenêtre principale.\n",
    "* [Pack](http://effbot.org/tkinterbook/pack.htm)\n",
    "* [Grid](http://effbot.org/tkinterbook/grid.htm)\n",
    "* [Place](http://effbot.org/tkinterbook/place.htm)"
   ]
  },
  {
   "cell_type": "markdown",
   "metadata": {},
   "source": [
    "<h2 class='fa fa-cog' style=\"color: SeaGreen\"> Exercice : réaliser un compte à rebours </h2>\n",
    "\n",
    "![image_1](tk_compte_a_rebours.png)"
   ]
  },
  {
   "cell_type": "markdown",
   "metadata": {},
   "source": [
    "### Indications:\n",
    "* La durée du compte à rebours est passée en argument au script: voir le module **sys**\n",
    "* Cet argument représente la durée, exprimée en minute et limitée à 240 min.\n",
    "* Prévoir un bouton « Lancer » pour démarrer le compte à rebours et un boutton « Quitter » pour permettre de quitter avant la fin.\n",
    "* À la fin du rebours, le programme affichera 3 fois la phrase « Temps écoulé !!! » dans le *shell*."
   ]
  },
  {
   "cell_type": "markdown",
   "metadata": {},
   "source": [
    "#### Utilisation du module **sys**:\n",
    "Le module **sys** permet des interactions avec l'interpréteur Python. Ici par exemple, il est utilisé pour récupérer des arguments lors de l'appel d'un script. \n",
    "*Illustration:* Dans un script nommé par exemple test_sys.py, saisir les lignes suivantes:\n",
    "```python\n",
    "    import sys\n",
    "\n",
    "    print (f\"Appel de test_sys.py avec en argument 1: {sys.argv[1]}\\tet l'argument 2: {sys.argv[2]}\")\n",
    "    print (f\"Et aussi l'argument 0 qui est: {sys.argv[0]}\")\n",
    "    print (f\"Le type est: {type (sys.argv[1])}\")\n",
    "```\n",
    "Enregistrer ce script puis à l'aide de la cellule suivante et des *magic commandes*, lancer l'exécution. \n",
    "**Remarque:** *Vous avez ici la version linux des commandes magiques, une adaptation à votre environnement est peut-être nécessaire. Vous pouvez aussi directement lancer la commande: test_sys.py 201 coucou à partir de l'interpréteur."
   ]
  },
  {
   "cell_type": "code",
   "execution_count": 6,
   "metadata": {},
   "outputs": [
    {
     "name": "stdout",
     "output_type": "stream",
     "text": [
      "test_sys.py  tk_compte_a_rebours.png  tkinter.ipynb\n",
      "L'argument 1 est: 201\tL'argument 2 est: coucou\n",
      "Et aussi l'argument 0 qui est: test_sys.py\n",
      "Attention au type: <class 'str'>\n"
     ]
    }
   ],
   "source": [
    "'''Utilisation des commandes magiques du notebook: il s'agit de commandes de l'environnement, qui \n",
    "précédée par le symbole %, seront exécutées dans une cellule de code: ici des commandes Linux '''\n",
    "\n",
    "%ls # la commande ls permet de lister le contenu du répertoire courant\n",
    "%run test_sys.py 201 coucou # exécution du script \"test.sys.py\" avec deux arguments positionnels."
   ]
  },
  {
   "cell_type": "markdown",
   "metadata": {},
   "source": [
    "On constate qu'il est ainsi possible de récupérer les arguments passés avec une commande. Attention au type de ces arguments: ils résultent d'une saisie au clavier !"
   ]
  }
 ],
 "metadata": {
  "kernelspec": {
   "display_name": "Python 3",
   "language": "python",
   "name": "python3"
  },
  "language_info": {
   "codemirror_mode": {
    "name": "ipython",
    "version": 3
   },
   "file_extension": ".py",
   "mimetype": "text/x-python",
   "name": "python",
   "nbconvert_exporter": "python",
   "pygments_lexer": "ipython3",
   "version": "3.7.7"
  }
 },
 "nbformat": 4,
 "nbformat_minor": 4
}
